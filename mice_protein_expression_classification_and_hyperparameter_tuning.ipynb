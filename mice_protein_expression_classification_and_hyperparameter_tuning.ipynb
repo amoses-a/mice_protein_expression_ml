{
  "nbformat": 4,
  "nbformat_minor": 0,
  "metadata": {
    "colab": {
      "provenance": [],
      "toc_visible": true,
      "authorship_tag": "ABX9TyM2U27aYF24pTuTcnc8ToKt",
      "include_colab_link": true
    },
    "kernelspec": {
      "name": "python3",
      "display_name": "Python 3"
    },
    "language_info": {
      "name": "python"
    }
  },
  "cells": [
    {
      "cell_type": "markdown",
      "metadata": {
        "id": "view-in-github",
        "colab_type": "text"
      },
      "source": [
        "<a href=\"https://colab.research.google.com/github/amoses-a/mice_protein_expression_ml/blob/main/mice_protein_expression_classification_and_hyperparameter_tuning.ipynb\" target=\"_parent\"><img src=\"https://colab.research.google.com/assets/colab-badge.svg\" alt=\"Open In Colab\"/></a>"
      ]
    },
    {
      "cell_type": "code",
      "execution_count": 1,
      "metadata": {
        "id": "mVZ88HRs9v0L"
      },
      "outputs": [],
      "source": [
        "import pandas as pd\n",
        "import numpy as np\n",
        "import io\n",
        "\n",
        "import seaborn as sns\n",
        "import matplotlib.pyplot as plt\n",
        "\n",
        "from sklearn.svm import SVC\n",
        "from sklearn.model_selection import train_test_split\n",
        "from sklearn.preprocessing import MinMaxScaler, StandardScaler\n",
        "\n",
        "import warnings\n",
        "warnings.filterwarnings('ignore')"
      ]
    },
    {
      "cell_type": "markdown",
      "source": [
        " Download the Mice Protein Expression Dataset and load it in Colab\n"
      ],
      "metadata": {
        "id": "fqKF1Utg_DSV"
      }
    },
    {
      "cell_type": "code",
      "source": [
        "#Mice Protein expression: https://archive.ics.uci.edu/dataset/342/mice+protein+expression\n",
        "mice_protein_data = pd.read_csv(\"Data_Cortex_Nuclear.csv\")\n",
        "\n",
        "mice_df =pd.DataFrame(mice_protein_data)\n",
        "\n",
        "#Index the class(target feature)\n",
        "classes = mice_df[\"Genotype\"]\n",
        "\n",
        "#Dropping \"Class\", ‘Mouse-ID’, ‘Genotype’, ‘Treatment’\n",
        "mice_df = mice_df.drop(columns=[\"class\", \"MouseID\", \"Genotype\", \"Treatment\"])\n",
        "\n",
        "#print(mice_df)\n",
        "#print(classes)\n",
        "\n",
        "mice_df\n",
        "\n",
        "#classes.value_counts()"
      ],
      "metadata": {
        "colab": {
          "base_uri": "https://localhost:8080/",
          "height": 443
        },
        "id": "SpODUkdM_Kuf",
        "outputId": "5fa47736-40e2-4206-ea0d-3c9a1d32a66c"
      },
      "execution_count": 7,
      "outputs": [
        {
          "output_type": "execute_result",
          "data": {
            "text/plain": [
              "      DYRK1A_N   ITSN1_N    BDNF_N     NR1_N    NR2A_N    pAKT_N   pBRAF_N  \\\n",
              "0     0.503644  0.747193  0.430175  2.816329  5.990152  0.218830  0.177565   \n",
              "1     0.514617  0.689064  0.411770  2.789514  5.685038  0.211636  0.172817   \n",
              "2     0.509183  0.730247  0.418309  2.687201  5.622059  0.209011  0.175722   \n",
              "3     0.442107  0.617076  0.358626  2.466947  4.979503  0.222886  0.176463   \n",
              "4     0.434940  0.617430  0.358802  2.365785  4.718679  0.213106  0.173627   \n",
              "...        ...       ...       ...       ...       ...       ...       ...   \n",
              "1075  0.254860  0.463591  0.254860  2.092082  2.600035  0.211736  0.171262   \n",
              "1076  0.272198  0.474163  0.251638  2.161390  2.801492  0.251274  0.182496   \n",
              "1077  0.228700  0.395179  0.234118  1.733184  2.220852  0.220665  0.161435   \n",
              "1078  0.221242  0.412894  0.243974  1.876347  2.384088  0.208897  0.173623   \n",
              "1079  0.302626  0.461059  0.256564  2.092790  2.594348  0.251001  0.191811   \n",
              "\n",
              "      pCAMKII_N   pCREB_N    pELK_N  ...     BAD_N  BCL2_N     pS6_N  \\\n",
              "0      2.373744  0.232224  1.750936  ...  0.122652     NaN  0.106305   \n",
              "1      2.292150  0.226972  1.596377  ...  0.116682     NaN  0.106592   \n",
              "2      2.283337  0.230247  1.561316  ...  0.118508     NaN  0.108303   \n",
              "3      2.152301  0.207004  1.595086  ...  0.132781     NaN  0.103184   \n",
              "4      2.134014  0.192158  1.504230  ...  0.129954     NaN  0.104784   \n",
              "...         ...       ...       ...  ...       ...     ...       ...   \n",
              "1075   2.483740  0.207317  1.057971  ...  0.190483     NaN  0.115806   \n",
              "1076   2.512737  0.216339  1.081150  ...  0.190463     NaN  0.113614   \n",
              "1077   1.989723  0.185164  0.884342  ...  0.216682     NaN  0.118948   \n",
              "1078   2.086028  0.192044  0.922595  ...  0.222263     NaN  0.125295   \n",
              "1079   2.361816  0.223632  1.064085  ...  0.227606     NaN  0.118899   \n",
              "\n",
              "       pCFOS_N     SYP_N  H3AcK18_N    EGR1_N  H3MeK4_N    CaNA_N  Behavior  \n",
              "0     0.108336  0.427099   0.114783  0.131790  0.128186  1.675652       C/S  \n",
              "1     0.104315  0.441581   0.111974  0.135103  0.131119  1.743610       C/S  \n",
              "2     0.106219  0.435777   0.111883  0.133362  0.127431  1.926427       C/S  \n",
              "3     0.111262  0.391691   0.130405  0.147444  0.146901  1.700563       C/S  \n",
              "4     0.110694  0.434154   0.118481  0.140314  0.148380  1.839730       C/S  \n",
              "...        ...       ...        ...       ...       ...       ...       ...  \n",
              "1075  0.183324  0.374088   0.318782  0.204660  0.328327  1.364823       S/C  \n",
              "1076  0.175674  0.375259   0.325639  0.200415  0.293435  1.364478       S/C  \n",
              "1077  0.158296  0.422121   0.321306  0.229193  0.355213  1.430825       S/C  \n",
              "1078  0.196296  0.397676   0.335936  0.251317  0.365353  1.404031       S/C  \n",
              "1079  0.187556  0.420347   0.335062  0.252995  0.365278  1.370999       S/C  \n",
              "\n",
              "[1080 rows x 78 columns]"
            ],
            "text/html": [
              "\n",
              "  <div id=\"df-c01f9834-fa37-4e6b-bb3e-d7e5490d00f8\" class=\"colab-df-container\">\n",
              "    <div>\n",
              "<style scoped>\n",
              "    .dataframe tbody tr th:only-of-type {\n",
              "        vertical-align: middle;\n",
              "    }\n",
              "\n",
              "    .dataframe tbody tr th {\n",
              "        vertical-align: top;\n",
              "    }\n",
              "\n",
              "    .dataframe thead th {\n",
              "        text-align: right;\n",
              "    }\n",
              "</style>\n",
              "<table border=\"1\" class=\"dataframe\">\n",
              "  <thead>\n",
              "    <tr style=\"text-align: right;\">\n",
              "      <th></th>\n",
              "      <th>DYRK1A_N</th>\n",
              "      <th>ITSN1_N</th>\n",
              "      <th>BDNF_N</th>\n",
              "      <th>NR1_N</th>\n",
              "      <th>NR2A_N</th>\n",
              "      <th>pAKT_N</th>\n",
              "      <th>pBRAF_N</th>\n",
              "      <th>pCAMKII_N</th>\n",
              "      <th>pCREB_N</th>\n",
              "      <th>pELK_N</th>\n",
              "      <th>...</th>\n",
              "      <th>BAD_N</th>\n",
              "      <th>BCL2_N</th>\n",
              "      <th>pS6_N</th>\n",
              "      <th>pCFOS_N</th>\n",
              "      <th>SYP_N</th>\n",
              "      <th>H3AcK18_N</th>\n",
              "      <th>EGR1_N</th>\n",
              "      <th>H3MeK4_N</th>\n",
              "      <th>CaNA_N</th>\n",
              "      <th>Behavior</th>\n",
              "    </tr>\n",
              "  </thead>\n",
              "  <tbody>\n",
              "    <tr>\n",
              "      <th>0</th>\n",
              "      <td>0.503644</td>\n",
              "      <td>0.747193</td>\n",
              "      <td>0.430175</td>\n",
              "      <td>2.816329</td>\n",
              "      <td>5.990152</td>\n",
              "      <td>0.218830</td>\n",
              "      <td>0.177565</td>\n",
              "      <td>2.373744</td>\n",
              "      <td>0.232224</td>\n",
              "      <td>1.750936</td>\n",
              "      <td>...</td>\n",
              "      <td>0.122652</td>\n",
              "      <td>NaN</td>\n",
              "      <td>0.106305</td>\n",
              "      <td>0.108336</td>\n",
              "      <td>0.427099</td>\n",
              "      <td>0.114783</td>\n",
              "      <td>0.131790</td>\n",
              "      <td>0.128186</td>\n",
              "      <td>1.675652</td>\n",
              "      <td>C/S</td>\n",
              "    </tr>\n",
              "    <tr>\n",
              "      <th>1</th>\n",
              "      <td>0.514617</td>\n",
              "      <td>0.689064</td>\n",
              "      <td>0.411770</td>\n",
              "      <td>2.789514</td>\n",
              "      <td>5.685038</td>\n",
              "      <td>0.211636</td>\n",
              "      <td>0.172817</td>\n",
              "      <td>2.292150</td>\n",
              "      <td>0.226972</td>\n",
              "      <td>1.596377</td>\n",
              "      <td>...</td>\n",
              "      <td>0.116682</td>\n",
              "      <td>NaN</td>\n",
              "      <td>0.106592</td>\n",
              "      <td>0.104315</td>\n",
              "      <td>0.441581</td>\n",
              "      <td>0.111974</td>\n",
              "      <td>0.135103</td>\n",
              "      <td>0.131119</td>\n",
              "      <td>1.743610</td>\n",
              "      <td>C/S</td>\n",
              "    </tr>\n",
              "    <tr>\n",
              "      <th>2</th>\n",
              "      <td>0.509183</td>\n",
              "      <td>0.730247</td>\n",
              "      <td>0.418309</td>\n",
              "      <td>2.687201</td>\n",
              "      <td>5.622059</td>\n",
              "      <td>0.209011</td>\n",
              "      <td>0.175722</td>\n",
              "      <td>2.283337</td>\n",
              "      <td>0.230247</td>\n",
              "      <td>1.561316</td>\n",
              "      <td>...</td>\n",
              "      <td>0.118508</td>\n",
              "      <td>NaN</td>\n",
              "      <td>0.108303</td>\n",
              "      <td>0.106219</td>\n",
              "      <td>0.435777</td>\n",
              "      <td>0.111883</td>\n",
              "      <td>0.133362</td>\n",
              "      <td>0.127431</td>\n",
              "      <td>1.926427</td>\n",
              "      <td>C/S</td>\n",
              "    </tr>\n",
              "    <tr>\n",
              "      <th>3</th>\n",
              "      <td>0.442107</td>\n",
              "      <td>0.617076</td>\n",
              "      <td>0.358626</td>\n",
              "      <td>2.466947</td>\n",
              "      <td>4.979503</td>\n",
              "      <td>0.222886</td>\n",
              "      <td>0.176463</td>\n",
              "      <td>2.152301</td>\n",
              "      <td>0.207004</td>\n",
              "      <td>1.595086</td>\n",
              "      <td>...</td>\n",
              "      <td>0.132781</td>\n",
              "      <td>NaN</td>\n",
              "      <td>0.103184</td>\n",
              "      <td>0.111262</td>\n",
              "      <td>0.391691</td>\n",
              "      <td>0.130405</td>\n",
              "      <td>0.147444</td>\n",
              "      <td>0.146901</td>\n",
              "      <td>1.700563</td>\n",
              "      <td>C/S</td>\n",
              "    </tr>\n",
              "    <tr>\n",
              "      <th>4</th>\n",
              "      <td>0.434940</td>\n",
              "      <td>0.617430</td>\n",
              "      <td>0.358802</td>\n",
              "      <td>2.365785</td>\n",
              "      <td>4.718679</td>\n",
              "      <td>0.213106</td>\n",
              "      <td>0.173627</td>\n",
              "      <td>2.134014</td>\n",
              "      <td>0.192158</td>\n",
              "      <td>1.504230</td>\n",
              "      <td>...</td>\n",
              "      <td>0.129954</td>\n",
              "      <td>NaN</td>\n",
              "      <td>0.104784</td>\n",
              "      <td>0.110694</td>\n",
              "      <td>0.434154</td>\n",
              "      <td>0.118481</td>\n",
              "      <td>0.140314</td>\n",
              "      <td>0.148380</td>\n",
              "      <td>1.839730</td>\n",
              "      <td>C/S</td>\n",
              "    </tr>\n",
              "    <tr>\n",
              "      <th>...</th>\n",
              "      <td>...</td>\n",
              "      <td>...</td>\n",
              "      <td>...</td>\n",
              "      <td>...</td>\n",
              "      <td>...</td>\n",
              "      <td>...</td>\n",
              "      <td>...</td>\n",
              "      <td>...</td>\n",
              "      <td>...</td>\n",
              "      <td>...</td>\n",
              "      <td>...</td>\n",
              "      <td>...</td>\n",
              "      <td>...</td>\n",
              "      <td>...</td>\n",
              "      <td>...</td>\n",
              "      <td>...</td>\n",
              "      <td>...</td>\n",
              "      <td>...</td>\n",
              "      <td>...</td>\n",
              "      <td>...</td>\n",
              "      <td>...</td>\n",
              "    </tr>\n",
              "    <tr>\n",
              "      <th>1075</th>\n",
              "      <td>0.254860</td>\n",
              "      <td>0.463591</td>\n",
              "      <td>0.254860</td>\n",
              "      <td>2.092082</td>\n",
              "      <td>2.600035</td>\n",
              "      <td>0.211736</td>\n",
              "      <td>0.171262</td>\n",
              "      <td>2.483740</td>\n",
              "      <td>0.207317</td>\n",
              "      <td>1.057971</td>\n",
              "      <td>...</td>\n",
              "      <td>0.190483</td>\n",
              "      <td>NaN</td>\n",
              "      <td>0.115806</td>\n",
              "      <td>0.183324</td>\n",
              "      <td>0.374088</td>\n",
              "      <td>0.318782</td>\n",
              "      <td>0.204660</td>\n",
              "      <td>0.328327</td>\n",
              "      <td>1.364823</td>\n",
              "      <td>S/C</td>\n",
              "    </tr>\n",
              "    <tr>\n",
              "      <th>1076</th>\n",
              "      <td>0.272198</td>\n",
              "      <td>0.474163</td>\n",
              "      <td>0.251638</td>\n",
              "      <td>2.161390</td>\n",
              "      <td>2.801492</td>\n",
              "      <td>0.251274</td>\n",
              "      <td>0.182496</td>\n",
              "      <td>2.512737</td>\n",
              "      <td>0.216339</td>\n",
              "      <td>1.081150</td>\n",
              "      <td>...</td>\n",
              "      <td>0.190463</td>\n",
              "      <td>NaN</td>\n",
              "      <td>0.113614</td>\n",
              "      <td>0.175674</td>\n",
              "      <td>0.375259</td>\n",
              "      <td>0.325639</td>\n",
              "      <td>0.200415</td>\n",
              "      <td>0.293435</td>\n",
              "      <td>1.364478</td>\n",
              "      <td>S/C</td>\n",
              "    </tr>\n",
              "    <tr>\n",
              "      <th>1077</th>\n",
              "      <td>0.228700</td>\n",
              "      <td>0.395179</td>\n",
              "      <td>0.234118</td>\n",
              "      <td>1.733184</td>\n",
              "      <td>2.220852</td>\n",
              "      <td>0.220665</td>\n",
              "      <td>0.161435</td>\n",
              "      <td>1.989723</td>\n",
              "      <td>0.185164</td>\n",
              "      <td>0.884342</td>\n",
              "      <td>...</td>\n",
              "      <td>0.216682</td>\n",
              "      <td>NaN</td>\n",
              "      <td>0.118948</td>\n",
              "      <td>0.158296</td>\n",
              "      <td>0.422121</td>\n",
              "      <td>0.321306</td>\n",
              "      <td>0.229193</td>\n",
              "      <td>0.355213</td>\n",
              "      <td>1.430825</td>\n",
              "      <td>S/C</td>\n",
              "    </tr>\n",
              "    <tr>\n",
              "      <th>1078</th>\n",
              "      <td>0.221242</td>\n",
              "      <td>0.412894</td>\n",
              "      <td>0.243974</td>\n",
              "      <td>1.876347</td>\n",
              "      <td>2.384088</td>\n",
              "      <td>0.208897</td>\n",
              "      <td>0.173623</td>\n",
              "      <td>2.086028</td>\n",
              "      <td>0.192044</td>\n",
              "      <td>0.922595</td>\n",
              "      <td>...</td>\n",
              "      <td>0.222263</td>\n",
              "      <td>NaN</td>\n",
              "      <td>0.125295</td>\n",
              "      <td>0.196296</td>\n",
              "      <td>0.397676</td>\n",
              "      <td>0.335936</td>\n",
              "      <td>0.251317</td>\n",
              "      <td>0.365353</td>\n",
              "      <td>1.404031</td>\n",
              "      <td>S/C</td>\n",
              "    </tr>\n",
              "    <tr>\n",
              "      <th>1079</th>\n",
              "      <td>0.302626</td>\n",
              "      <td>0.461059</td>\n",
              "      <td>0.256564</td>\n",
              "      <td>2.092790</td>\n",
              "      <td>2.594348</td>\n",
              "      <td>0.251001</td>\n",
              "      <td>0.191811</td>\n",
              "      <td>2.361816</td>\n",
              "      <td>0.223632</td>\n",
              "      <td>1.064085</td>\n",
              "      <td>...</td>\n",
              "      <td>0.227606</td>\n",
              "      <td>NaN</td>\n",
              "      <td>0.118899</td>\n",
              "      <td>0.187556</td>\n",
              "      <td>0.420347</td>\n",
              "      <td>0.335062</td>\n",
              "      <td>0.252995</td>\n",
              "      <td>0.365278</td>\n",
              "      <td>1.370999</td>\n",
              "      <td>S/C</td>\n",
              "    </tr>\n",
              "  </tbody>\n",
              "</table>\n",
              "<p>1080 rows × 78 columns</p>\n",
              "</div>\n",
              "    <div class=\"colab-df-buttons\">\n",
              "\n",
              "  <div class=\"colab-df-container\">\n",
              "    <button class=\"colab-df-convert\" onclick=\"convertToInteractive('df-c01f9834-fa37-4e6b-bb3e-d7e5490d00f8')\"\n",
              "            title=\"Convert this dataframe to an interactive table.\"\n",
              "            style=\"display:none;\">\n",
              "\n",
              "  <svg xmlns=\"http://www.w3.org/2000/svg\" height=\"24px\" viewBox=\"0 -960 960 960\">\n",
              "    <path d=\"M120-120v-720h720v720H120Zm60-500h600v-160H180v160Zm220 220h160v-160H400v160Zm0 220h160v-160H400v160ZM180-400h160v-160H180v160Zm440 0h160v-160H620v160ZM180-180h160v-160H180v160Zm440 0h160v-160H620v160Z\"/>\n",
              "  </svg>\n",
              "    </button>\n",
              "\n",
              "  <style>\n",
              "    .colab-df-container {\n",
              "      display:flex;\n",
              "      gap: 12px;\n",
              "    }\n",
              "\n",
              "    .colab-df-convert {\n",
              "      background-color: #E8F0FE;\n",
              "      border: none;\n",
              "      border-radius: 50%;\n",
              "      cursor: pointer;\n",
              "      display: none;\n",
              "      fill: #1967D2;\n",
              "      height: 32px;\n",
              "      padding: 0 0 0 0;\n",
              "      width: 32px;\n",
              "    }\n",
              "\n",
              "    .colab-df-convert:hover {\n",
              "      background-color: #E2EBFA;\n",
              "      box-shadow: 0px 1px 2px rgba(60, 64, 67, 0.3), 0px 1px 3px 1px rgba(60, 64, 67, 0.15);\n",
              "      fill: #174EA6;\n",
              "    }\n",
              "\n",
              "    .colab-df-buttons div {\n",
              "      margin-bottom: 4px;\n",
              "    }\n",
              "\n",
              "    [theme=dark] .colab-df-convert {\n",
              "      background-color: #3B4455;\n",
              "      fill: #D2E3FC;\n",
              "    }\n",
              "\n",
              "    [theme=dark] .colab-df-convert:hover {\n",
              "      background-color: #434B5C;\n",
              "      box-shadow: 0px 1px 3px 1px rgba(0, 0, 0, 0.15);\n",
              "      filter: drop-shadow(0px 1px 2px rgba(0, 0, 0, 0.3));\n",
              "      fill: #FFFFFF;\n",
              "    }\n",
              "  </style>\n",
              "\n",
              "    <script>\n",
              "      const buttonEl =\n",
              "        document.querySelector('#df-c01f9834-fa37-4e6b-bb3e-d7e5490d00f8 button.colab-df-convert');\n",
              "      buttonEl.style.display =\n",
              "        google.colab.kernel.accessAllowed ? 'block' : 'none';\n",
              "\n",
              "      async function convertToInteractive(key) {\n",
              "        const element = document.querySelector('#df-c01f9834-fa37-4e6b-bb3e-d7e5490d00f8');\n",
              "        const dataTable =\n",
              "          await google.colab.kernel.invokeFunction('convertToInteractive',\n",
              "                                                    [key], {});\n",
              "        if (!dataTable) return;\n",
              "\n",
              "        const docLinkHtml = 'Like what you see? Visit the ' +\n",
              "          '<a target=\"_blank\" href=https://colab.research.google.com/notebooks/data_table.ipynb>data table notebook</a>'\n",
              "          + ' to learn more about interactive tables.';\n",
              "        element.innerHTML = '';\n",
              "        dataTable['output_type'] = 'display_data';\n",
              "        await google.colab.output.renderOutput(dataTable, element);\n",
              "        const docLink = document.createElement('div');\n",
              "        docLink.innerHTML = docLinkHtml;\n",
              "        element.appendChild(docLink);\n",
              "      }\n",
              "    </script>\n",
              "  </div>\n",
              "\n",
              "\n",
              "<div id=\"df-e176bd38-c687-42e6-9853-2e19d50abb30\">\n",
              "  <button class=\"colab-df-quickchart\" onclick=\"quickchart('df-e176bd38-c687-42e6-9853-2e19d50abb30')\"\n",
              "            title=\"Suggest charts\"\n",
              "            style=\"display:none;\">\n",
              "\n",
              "<svg xmlns=\"http://www.w3.org/2000/svg\" height=\"24px\"viewBox=\"0 0 24 24\"\n",
              "     width=\"24px\">\n",
              "    <g>\n",
              "        <path d=\"M19 3H5c-1.1 0-2 .9-2 2v14c0 1.1.9 2 2 2h14c1.1 0 2-.9 2-2V5c0-1.1-.9-2-2-2zM9 17H7v-7h2v7zm4 0h-2V7h2v10zm4 0h-2v-4h2v4z\"/>\n",
              "    </g>\n",
              "</svg>\n",
              "  </button>\n",
              "\n",
              "<style>\n",
              "  .colab-df-quickchart {\n",
              "      --bg-color: #E8F0FE;\n",
              "      --fill-color: #1967D2;\n",
              "      --hover-bg-color: #E2EBFA;\n",
              "      --hover-fill-color: #174EA6;\n",
              "      --disabled-fill-color: #AAA;\n",
              "      --disabled-bg-color: #DDD;\n",
              "  }\n",
              "\n",
              "  [theme=dark] .colab-df-quickchart {\n",
              "      --bg-color: #3B4455;\n",
              "      --fill-color: #D2E3FC;\n",
              "      --hover-bg-color: #434B5C;\n",
              "      --hover-fill-color: #FFFFFF;\n",
              "      --disabled-bg-color: #3B4455;\n",
              "      --disabled-fill-color: #666;\n",
              "  }\n",
              "\n",
              "  .colab-df-quickchart {\n",
              "    background-color: var(--bg-color);\n",
              "    border: none;\n",
              "    border-radius: 50%;\n",
              "    cursor: pointer;\n",
              "    display: none;\n",
              "    fill: var(--fill-color);\n",
              "    height: 32px;\n",
              "    padding: 0;\n",
              "    width: 32px;\n",
              "  }\n",
              "\n",
              "  .colab-df-quickchart:hover {\n",
              "    background-color: var(--hover-bg-color);\n",
              "    box-shadow: 0 1px 2px rgba(60, 64, 67, 0.3), 0 1px 3px 1px rgba(60, 64, 67, 0.15);\n",
              "    fill: var(--button-hover-fill-color);\n",
              "  }\n",
              "\n",
              "  .colab-df-quickchart-complete:disabled,\n",
              "  .colab-df-quickchart-complete:disabled:hover {\n",
              "    background-color: var(--disabled-bg-color);\n",
              "    fill: var(--disabled-fill-color);\n",
              "    box-shadow: none;\n",
              "  }\n",
              "\n",
              "  .colab-df-spinner {\n",
              "    border: 2px solid var(--fill-color);\n",
              "    border-color: transparent;\n",
              "    border-bottom-color: var(--fill-color);\n",
              "    animation:\n",
              "      spin 1s steps(1) infinite;\n",
              "  }\n",
              "\n",
              "  @keyframes spin {\n",
              "    0% {\n",
              "      border-color: transparent;\n",
              "      border-bottom-color: var(--fill-color);\n",
              "      border-left-color: var(--fill-color);\n",
              "    }\n",
              "    20% {\n",
              "      border-color: transparent;\n",
              "      border-left-color: var(--fill-color);\n",
              "      border-top-color: var(--fill-color);\n",
              "    }\n",
              "    30% {\n",
              "      border-color: transparent;\n",
              "      border-left-color: var(--fill-color);\n",
              "      border-top-color: var(--fill-color);\n",
              "      border-right-color: var(--fill-color);\n",
              "    }\n",
              "    40% {\n",
              "      border-color: transparent;\n",
              "      border-right-color: var(--fill-color);\n",
              "      border-top-color: var(--fill-color);\n",
              "    }\n",
              "    60% {\n",
              "      border-color: transparent;\n",
              "      border-right-color: var(--fill-color);\n",
              "    }\n",
              "    80% {\n",
              "      border-color: transparent;\n",
              "      border-right-color: var(--fill-color);\n",
              "      border-bottom-color: var(--fill-color);\n",
              "    }\n",
              "    90% {\n",
              "      border-color: transparent;\n",
              "      border-bottom-color: var(--fill-color);\n",
              "    }\n",
              "  }\n",
              "</style>\n",
              "\n",
              "  <script>\n",
              "    async function quickchart(key) {\n",
              "      const quickchartButtonEl =\n",
              "        document.querySelector('#' + key + ' button');\n",
              "      quickchartButtonEl.disabled = true;  // To prevent multiple clicks.\n",
              "      quickchartButtonEl.classList.add('colab-df-spinner');\n",
              "      try {\n",
              "        const charts = await google.colab.kernel.invokeFunction(\n",
              "            'suggestCharts', [key], {});\n",
              "      } catch (error) {\n",
              "        console.error('Error during call to suggestCharts:', error);\n",
              "      }\n",
              "      quickchartButtonEl.classList.remove('colab-df-spinner');\n",
              "      quickchartButtonEl.classList.add('colab-df-quickchart-complete');\n",
              "    }\n",
              "    (() => {\n",
              "      let quickchartButtonEl =\n",
              "        document.querySelector('#df-e176bd38-c687-42e6-9853-2e19d50abb30 button');\n",
              "      quickchartButtonEl.style.display =\n",
              "        google.colab.kernel.accessAllowed ? 'block' : 'none';\n",
              "    })();\n",
              "  </script>\n",
              "</div>\n",
              "    </div>\n",
              "  </div>\n"
            ],
            "application/vnd.google.colaboratory.intrinsic+json": {
              "type": "dataframe",
              "variable_name": "mice_df"
            }
          },
          "metadata": {},
          "execution_count": 7
        }
      ]
    },
    {
      "cell_type": "markdown",
      "source": [
        "Calculate the basic statistics for the dataset. Are there any missing values?"
      ],
      "metadata": {
        "id": "LKMtnWWAChoW"
      }
    },
    {
      "cell_type": "code",
      "source": [
        "#Find NaNs and impute values\n",
        "#mice_df.isna().sum()\n",
        "\n",
        "missing_values = mice_df.isnull().sum()\n",
        "print(\"Missing values per column:\")\n",
        "print(missing_values)"
      ],
      "metadata": {
        "colab": {
          "base_uri": "https://localhost:8080/"
        },
        "id": "uYSpuJ-NCnc8",
        "outputId": "29ccfc29-13ec-413e-c1d6-5468f87dc39a"
      },
      "execution_count": 8,
      "outputs": [
        {
          "output_type": "stream",
          "name": "stdout",
          "text": [
            "Missing values per column:\n",
            "DYRK1A_N       3\n",
            "ITSN1_N        3\n",
            "BDNF_N         3\n",
            "NR1_N          3\n",
            "NR2A_N         3\n",
            "            ... \n",
            "H3AcK18_N    180\n",
            "EGR1_N       210\n",
            "H3MeK4_N     270\n",
            "CaNA_N         0\n",
            "Behavior       0\n",
            "Length: 78, dtype: int64\n"
          ]
        }
      ]
    },
    {
      "cell_type": "code",
      "source": [
        "#Replace missing values with Median imputation\n",
        "features_name = mice_df.columns\n",
        "\n",
        "#loop through columns to remove categorical columns and columns that are not NaN/null\n",
        "for feature in features_name:\n",
        "  if feature == \"Behavior\":\n",
        "    continue\n",
        "  elif mice_df[feature].isnull().sum() == 0:\n",
        "    continue\n",
        "  else:\n",
        "    median_value = mice_df[feature].median()\n",
        "    mice_df[feature] = mice_df[feature].fillna(median_value)\n",
        "\n",
        "mice_df.isna().sum()"
      ],
      "metadata": {
        "colab": {
          "base_uri": "https://localhost:8080/"
        },
        "id": "RpY5s0GOREb6",
        "outputId": "677159af-4056-4e9d-c9d5-d2187d2b5d1c"
      },
      "execution_count": 9,
      "outputs": [
        {
          "output_type": "execute_result",
          "data": {
            "text/plain": [
              "DYRK1A_N     0\n",
              "ITSN1_N      0\n",
              "BDNF_N       0\n",
              "NR1_N        0\n",
              "NR2A_N       0\n",
              "            ..\n",
              "H3AcK18_N    0\n",
              "EGR1_N       0\n",
              "H3MeK4_N     0\n",
              "CaNA_N       0\n",
              "Behavior     0\n",
              "Length: 78, dtype: int64"
            ]
          },
          "metadata": {},
          "execution_count": 9
        }
      ]
    },
    {
      "cell_type": "code",
      "source": [
        "#basic statistic\n",
        "mice_df.describe()"
      ],
      "metadata": {
        "colab": {
          "base_uri": "https://localhost:8080/",
          "height": 349
        },
        "id": "7JICIEDrRRWI",
        "outputId": "b68c99a3-08be-4f8f-ee5e-83f306c464c3"
      },
      "execution_count": 10,
      "outputs": [
        {
          "output_type": "execute_result",
          "data": {
            "text/plain": [
              "          DYRK1A_N      ITSN1_N       BDNF_N        NR1_N       NR2A_N  \\\n",
              "count  1080.000000  1080.000000  1080.000000  1080.000000  1080.000000   \n",
              "mean      0.425645     0.616959     0.319081     2.297267     3.843703   \n",
              "std       0.249035     0.251304     0.049315     0.346810     0.931812   \n",
              "min       0.145327     0.245359     0.115181     1.330831     1.737540   \n",
              "25%       0.288163     0.473669     0.287650     2.059152     3.160287   \n",
              "50%       0.366378     0.565782     0.316564     2.296546     3.760855   \n",
              "75%       0.487574     0.697500     0.348039     2.528035     4.425107   \n",
              "max       2.516367     2.602662     0.497160     3.757641     8.482553   \n",
              "\n",
              "            pAKT_N      pBRAF_N    pCAMKII_N      pCREB_N       pELK_N  ...  \\\n",
              "count  1080.000000  1080.000000  1080.000000  1080.000000  1080.000000  ...   \n",
              "mean      0.233163     0.181848     3.536524     0.212568     1.428480  ...   \n",
              "std       0.041577     0.027004     1.293415     0.032542     0.466270  ...   \n",
              "min       0.063236     0.064043     1.343998     0.112812     0.429032  ...   \n",
              "25%       0.205821     0.164619     2.479861     0.190828     1.206389  ...   \n",
              "50%       0.231177     0.182302     3.326520     0.210594     1.355846  ...   \n",
              "75%       0.257225     0.197226     4.480652     0.234558     1.560931  ...   \n",
              "max       0.539050     0.317066     7.464070     0.306247     6.113347  ...   \n",
              "\n",
              "             SHH_N        BAD_N       BCL2_N        pS6_N      pCFOS_N  \\\n",
              "count  1080.000000  1080.000000  1080.000000  1080.000000  1080.000000   \n",
              "mean      0.226676     0.156810     0.133365     0.121521     0.130738   \n",
              "std       0.028989     0.026555     0.023635     0.014276     0.023047   \n",
              "min       0.155869     0.088305     0.080657     0.067254     0.085419   \n",
              "25%       0.206395     0.141045     0.119986     0.110839     0.114373   \n",
              "50%       0.224000     0.152313     0.129468     0.121626     0.126523   \n",
              "75%       0.241655     0.167584     0.139331     0.131955     0.142427   \n",
              "max       0.358289     0.282016     0.261506     0.158748     0.256529   \n",
              "\n",
              "             SYP_N    H3AcK18_N       EGR1_N     H3MeK4_N       CaNA_N  \n",
              "count  1080.000000  1080.000000  1080.000000  1080.000000  1080.000000  \n",
              "mean      0.446073     0.167714     0.181540     0.202578     1.337784  \n",
              "std       0.066432     0.054387     0.036406     0.048324     0.317126  \n",
              "min       0.258626     0.079691     0.105537     0.101787     0.586479  \n",
              "25%       0.398082     0.133969     0.159168     0.174271     1.081423  \n",
              "50%       0.448459     0.158240     0.174935     0.193994     1.317441  \n",
              "75%       0.490773     0.187174     0.196133     0.219242     1.585824  \n",
              "max       0.759588     0.479763     0.360692     0.413903     2.129791  \n",
              "\n",
              "[8 rows x 77 columns]"
            ],
            "text/html": [
              "\n",
              "  <div id=\"df-7fed95d1-0ee3-419b-b127-3bdee2fa541d\" class=\"colab-df-container\">\n",
              "    <div>\n",
              "<style scoped>\n",
              "    .dataframe tbody tr th:only-of-type {\n",
              "        vertical-align: middle;\n",
              "    }\n",
              "\n",
              "    .dataframe tbody tr th {\n",
              "        vertical-align: top;\n",
              "    }\n",
              "\n",
              "    .dataframe thead th {\n",
              "        text-align: right;\n",
              "    }\n",
              "</style>\n",
              "<table border=\"1\" class=\"dataframe\">\n",
              "  <thead>\n",
              "    <tr style=\"text-align: right;\">\n",
              "      <th></th>\n",
              "      <th>DYRK1A_N</th>\n",
              "      <th>ITSN1_N</th>\n",
              "      <th>BDNF_N</th>\n",
              "      <th>NR1_N</th>\n",
              "      <th>NR2A_N</th>\n",
              "      <th>pAKT_N</th>\n",
              "      <th>pBRAF_N</th>\n",
              "      <th>pCAMKII_N</th>\n",
              "      <th>pCREB_N</th>\n",
              "      <th>pELK_N</th>\n",
              "      <th>...</th>\n",
              "      <th>SHH_N</th>\n",
              "      <th>BAD_N</th>\n",
              "      <th>BCL2_N</th>\n",
              "      <th>pS6_N</th>\n",
              "      <th>pCFOS_N</th>\n",
              "      <th>SYP_N</th>\n",
              "      <th>H3AcK18_N</th>\n",
              "      <th>EGR1_N</th>\n",
              "      <th>H3MeK4_N</th>\n",
              "      <th>CaNA_N</th>\n",
              "    </tr>\n",
              "  </thead>\n",
              "  <tbody>\n",
              "    <tr>\n",
              "      <th>count</th>\n",
              "      <td>1080.000000</td>\n",
              "      <td>1080.000000</td>\n",
              "      <td>1080.000000</td>\n",
              "      <td>1080.000000</td>\n",
              "      <td>1080.000000</td>\n",
              "      <td>1080.000000</td>\n",
              "      <td>1080.000000</td>\n",
              "      <td>1080.000000</td>\n",
              "      <td>1080.000000</td>\n",
              "      <td>1080.000000</td>\n",
              "      <td>...</td>\n",
              "      <td>1080.000000</td>\n",
              "      <td>1080.000000</td>\n",
              "      <td>1080.000000</td>\n",
              "      <td>1080.000000</td>\n",
              "      <td>1080.000000</td>\n",
              "      <td>1080.000000</td>\n",
              "      <td>1080.000000</td>\n",
              "      <td>1080.000000</td>\n",
              "      <td>1080.000000</td>\n",
              "      <td>1080.000000</td>\n",
              "    </tr>\n",
              "    <tr>\n",
              "      <th>mean</th>\n",
              "      <td>0.425645</td>\n",
              "      <td>0.616959</td>\n",
              "      <td>0.319081</td>\n",
              "      <td>2.297267</td>\n",
              "      <td>3.843703</td>\n",
              "      <td>0.233163</td>\n",
              "      <td>0.181848</td>\n",
              "      <td>3.536524</td>\n",
              "      <td>0.212568</td>\n",
              "      <td>1.428480</td>\n",
              "      <td>...</td>\n",
              "      <td>0.226676</td>\n",
              "      <td>0.156810</td>\n",
              "      <td>0.133365</td>\n",
              "      <td>0.121521</td>\n",
              "      <td>0.130738</td>\n",
              "      <td>0.446073</td>\n",
              "      <td>0.167714</td>\n",
              "      <td>0.181540</td>\n",
              "      <td>0.202578</td>\n",
              "      <td>1.337784</td>\n",
              "    </tr>\n",
              "    <tr>\n",
              "      <th>std</th>\n",
              "      <td>0.249035</td>\n",
              "      <td>0.251304</td>\n",
              "      <td>0.049315</td>\n",
              "      <td>0.346810</td>\n",
              "      <td>0.931812</td>\n",
              "      <td>0.041577</td>\n",
              "      <td>0.027004</td>\n",
              "      <td>1.293415</td>\n",
              "      <td>0.032542</td>\n",
              "      <td>0.466270</td>\n",
              "      <td>...</td>\n",
              "      <td>0.028989</td>\n",
              "      <td>0.026555</td>\n",
              "      <td>0.023635</td>\n",
              "      <td>0.014276</td>\n",
              "      <td>0.023047</td>\n",
              "      <td>0.066432</td>\n",
              "      <td>0.054387</td>\n",
              "      <td>0.036406</td>\n",
              "      <td>0.048324</td>\n",
              "      <td>0.317126</td>\n",
              "    </tr>\n",
              "    <tr>\n",
              "      <th>min</th>\n",
              "      <td>0.145327</td>\n",
              "      <td>0.245359</td>\n",
              "      <td>0.115181</td>\n",
              "      <td>1.330831</td>\n",
              "      <td>1.737540</td>\n",
              "      <td>0.063236</td>\n",
              "      <td>0.064043</td>\n",
              "      <td>1.343998</td>\n",
              "      <td>0.112812</td>\n",
              "      <td>0.429032</td>\n",
              "      <td>...</td>\n",
              "      <td>0.155869</td>\n",
              "      <td>0.088305</td>\n",
              "      <td>0.080657</td>\n",
              "      <td>0.067254</td>\n",
              "      <td>0.085419</td>\n",
              "      <td>0.258626</td>\n",
              "      <td>0.079691</td>\n",
              "      <td>0.105537</td>\n",
              "      <td>0.101787</td>\n",
              "      <td>0.586479</td>\n",
              "    </tr>\n",
              "    <tr>\n",
              "      <th>25%</th>\n",
              "      <td>0.288163</td>\n",
              "      <td>0.473669</td>\n",
              "      <td>0.287650</td>\n",
              "      <td>2.059152</td>\n",
              "      <td>3.160287</td>\n",
              "      <td>0.205821</td>\n",
              "      <td>0.164619</td>\n",
              "      <td>2.479861</td>\n",
              "      <td>0.190828</td>\n",
              "      <td>1.206389</td>\n",
              "      <td>...</td>\n",
              "      <td>0.206395</td>\n",
              "      <td>0.141045</td>\n",
              "      <td>0.119986</td>\n",
              "      <td>0.110839</td>\n",
              "      <td>0.114373</td>\n",
              "      <td>0.398082</td>\n",
              "      <td>0.133969</td>\n",
              "      <td>0.159168</td>\n",
              "      <td>0.174271</td>\n",
              "      <td>1.081423</td>\n",
              "    </tr>\n",
              "    <tr>\n",
              "      <th>50%</th>\n",
              "      <td>0.366378</td>\n",
              "      <td>0.565782</td>\n",
              "      <td>0.316564</td>\n",
              "      <td>2.296546</td>\n",
              "      <td>3.760855</td>\n",
              "      <td>0.231177</td>\n",
              "      <td>0.182302</td>\n",
              "      <td>3.326520</td>\n",
              "      <td>0.210594</td>\n",
              "      <td>1.355846</td>\n",
              "      <td>...</td>\n",
              "      <td>0.224000</td>\n",
              "      <td>0.152313</td>\n",
              "      <td>0.129468</td>\n",
              "      <td>0.121626</td>\n",
              "      <td>0.126523</td>\n",
              "      <td>0.448459</td>\n",
              "      <td>0.158240</td>\n",
              "      <td>0.174935</td>\n",
              "      <td>0.193994</td>\n",
              "      <td>1.317441</td>\n",
              "    </tr>\n",
              "    <tr>\n",
              "      <th>75%</th>\n",
              "      <td>0.487574</td>\n",
              "      <td>0.697500</td>\n",
              "      <td>0.348039</td>\n",
              "      <td>2.528035</td>\n",
              "      <td>4.425107</td>\n",
              "      <td>0.257225</td>\n",
              "      <td>0.197226</td>\n",
              "      <td>4.480652</td>\n",
              "      <td>0.234558</td>\n",
              "      <td>1.560931</td>\n",
              "      <td>...</td>\n",
              "      <td>0.241655</td>\n",
              "      <td>0.167584</td>\n",
              "      <td>0.139331</td>\n",
              "      <td>0.131955</td>\n",
              "      <td>0.142427</td>\n",
              "      <td>0.490773</td>\n",
              "      <td>0.187174</td>\n",
              "      <td>0.196133</td>\n",
              "      <td>0.219242</td>\n",
              "      <td>1.585824</td>\n",
              "    </tr>\n",
              "    <tr>\n",
              "      <th>max</th>\n",
              "      <td>2.516367</td>\n",
              "      <td>2.602662</td>\n",
              "      <td>0.497160</td>\n",
              "      <td>3.757641</td>\n",
              "      <td>8.482553</td>\n",
              "      <td>0.539050</td>\n",
              "      <td>0.317066</td>\n",
              "      <td>7.464070</td>\n",
              "      <td>0.306247</td>\n",
              "      <td>6.113347</td>\n",
              "      <td>...</td>\n",
              "      <td>0.358289</td>\n",
              "      <td>0.282016</td>\n",
              "      <td>0.261506</td>\n",
              "      <td>0.158748</td>\n",
              "      <td>0.256529</td>\n",
              "      <td>0.759588</td>\n",
              "      <td>0.479763</td>\n",
              "      <td>0.360692</td>\n",
              "      <td>0.413903</td>\n",
              "      <td>2.129791</td>\n",
              "    </tr>\n",
              "  </tbody>\n",
              "</table>\n",
              "<p>8 rows × 77 columns</p>\n",
              "</div>\n",
              "    <div class=\"colab-df-buttons\">\n",
              "\n",
              "  <div class=\"colab-df-container\">\n",
              "    <button class=\"colab-df-convert\" onclick=\"convertToInteractive('df-7fed95d1-0ee3-419b-b127-3bdee2fa541d')\"\n",
              "            title=\"Convert this dataframe to an interactive table.\"\n",
              "            style=\"display:none;\">\n",
              "\n",
              "  <svg xmlns=\"http://www.w3.org/2000/svg\" height=\"24px\" viewBox=\"0 -960 960 960\">\n",
              "    <path d=\"M120-120v-720h720v720H120Zm60-500h600v-160H180v160Zm220 220h160v-160H400v160Zm0 220h160v-160H400v160ZM180-400h160v-160H180v160Zm440 0h160v-160H620v160ZM180-180h160v-160H180v160Zm440 0h160v-160H620v160Z\"/>\n",
              "  </svg>\n",
              "    </button>\n",
              "\n",
              "  <style>\n",
              "    .colab-df-container {\n",
              "      display:flex;\n",
              "      gap: 12px;\n",
              "    }\n",
              "\n",
              "    .colab-df-convert {\n",
              "      background-color: #E8F0FE;\n",
              "      border: none;\n",
              "      border-radius: 50%;\n",
              "      cursor: pointer;\n",
              "      display: none;\n",
              "      fill: #1967D2;\n",
              "      height: 32px;\n",
              "      padding: 0 0 0 0;\n",
              "      width: 32px;\n",
              "    }\n",
              "\n",
              "    .colab-df-convert:hover {\n",
              "      background-color: #E2EBFA;\n",
              "      box-shadow: 0px 1px 2px rgba(60, 64, 67, 0.3), 0px 1px 3px 1px rgba(60, 64, 67, 0.15);\n",
              "      fill: #174EA6;\n",
              "    }\n",
              "\n",
              "    .colab-df-buttons div {\n",
              "      margin-bottom: 4px;\n",
              "    }\n",
              "\n",
              "    [theme=dark] .colab-df-convert {\n",
              "      background-color: #3B4455;\n",
              "      fill: #D2E3FC;\n",
              "    }\n",
              "\n",
              "    [theme=dark] .colab-df-convert:hover {\n",
              "      background-color: #434B5C;\n",
              "      box-shadow: 0px 1px 3px 1px rgba(0, 0, 0, 0.15);\n",
              "      filter: drop-shadow(0px 1px 2px rgba(0, 0, 0, 0.3));\n",
              "      fill: #FFFFFF;\n",
              "    }\n",
              "  </style>\n",
              "\n",
              "    <script>\n",
              "      const buttonEl =\n",
              "        document.querySelector('#df-7fed95d1-0ee3-419b-b127-3bdee2fa541d button.colab-df-convert');\n",
              "      buttonEl.style.display =\n",
              "        google.colab.kernel.accessAllowed ? 'block' : 'none';\n",
              "\n",
              "      async function convertToInteractive(key) {\n",
              "        const element = document.querySelector('#df-7fed95d1-0ee3-419b-b127-3bdee2fa541d');\n",
              "        const dataTable =\n",
              "          await google.colab.kernel.invokeFunction('convertToInteractive',\n",
              "                                                    [key], {});\n",
              "        if (!dataTable) return;\n",
              "\n",
              "        const docLinkHtml = 'Like what you see? Visit the ' +\n",
              "          '<a target=\"_blank\" href=https://colab.research.google.com/notebooks/data_table.ipynb>data table notebook</a>'\n",
              "          + ' to learn more about interactive tables.';\n",
              "        element.innerHTML = '';\n",
              "        dataTable['output_type'] = 'display_data';\n",
              "        await google.colab.output.renderOutput(dataTable, element);\n",
              "        const docLink = document.createElement('div');\n",
              "        docLink.innerHTML = docLinkHtml;\n",
              "        element.appendChild(docLink);\n",
              "      }\n",
              "    </script>\n",
              "  </div>\n",
              "\n",
              "\n",
              "<div id=\"df-ccb00a21-4683-4c6a-90e6-d567b63d741f\">\n",
              "  <button class=\"colab-df-quickchart\" onclick=\"quickchart('df-ccb00a21-4683-4c6a-90e6-d567b63d741f')\"\n",
              "            title=\"Suggest charts\"\n",
              "            style=\"display:none;\">\n",
              "\n",
              "<svg xmlns=\"http://www.w3.org/2000/svg\" height=\"24px\"viewBox=\"0 0 24 24\"\n",
              "     width=\"24px\">\n",
              "    <g>\n",
              "        <path d=\"M19 3H5c-1.1 0-2 .9-2 2v14c0 1.1.9 2 2 2h14c1.1 0 2-.9 2-2V5c0-1.1-.9-2-2-2zM9 17H7v-7h2v7zm4 0h-2V7h2v10zm4 0h-2v-4h2v4z\"/>\n",
              "    </g>\n",
              "</svg>\n",
              "  </button>\n",
              "\n",
              "<style>\n",
              "  .colab-df-quickchart {\n",
              "      --bg-color: #E8F0FE;\n",
              "      --fill-color: #1967D2;\n",
              "      --hover-bg-color: #E2EBFA;\n",
              "      --hover-fill-color: #174EA6;\n",
              "      --disabled-fill-color: #AAA;\n",
              "      --disabled-bg-color: #DDD;\n",
              "  }\n",
              "\n",
              "  [theme=dark] .colab-df-quickchart {\n",
              "      --bg-color: #3B4455;\n",
              "      --fill-color: #D2E3FC;\n",
              "      --hover-bg-color: #434B5C;\n",
              "      --hover-fill-color: #FFFFFF;\n",
              "      --disabled-bg-color: #3B4455;\n",
              "      --disabled-fill-color: #666;\n",
              "  }\n",
              "\n",
              "  .colab-df-quickchart {\n",
              "    background-color: var(--bg-color);\n",
              "    border: none;\n",
              "    border-radius: 50%;\n",
              "    cursor: pointer;\n",
              "    display: none;\n",
              "    fill: var(--fill-color);\n",
              "    height: 32px;\n",
              "    padding: 0;\n",
              "    width: 32px;\n",
              "  }\n",
              "\n",
              "  .colab-df-quickchart:hover {\n",
              "    background-color: var(--hover-bg-color);\n",
              "    box-shadow: 0 1px 2px rgba(60, 64, 67, 0.3), 0 1px 3px 1px rgba(60, 64, 67, 0.15);\n",
              "    fill: var(--button-hover-fill-color);\n",
              "  }\n",
              "\n",
              "  .colab-df-quickchart-complete:disabled,\n",
              "  .colab-df-quickchart-complete:disabled:hover {\n",
              "    background-color: var(--disabled-bg-color);\n",
              "    fill: var(--disabled-fill-color);\n",
              "    box-shadow: none;\n",
              "  }\n",
              "\n",
              "  .colab-df-spinner {\n",
              "    border: 2px solid var(--fill-color);\n",
              "    border-color: transparent;\n",
              "    border-bottom-color: var(--fill-color);\n",
              "    animation:\n",
              "      spin 1s steps(1) infinite;\n",
              "  }\n",
              "\n",
              "  @keyframes spin {\n",
              "    0% {\n",
              "      border-color: transparent;\n",
              "      border-bottom-color: var(--fill-color);\n",
              "      border-left-color: var(--fill-color);\n",
              "    }\n",
              "    20% {\n",
              "      border-color: transparent;\n",
              "      border-left-color: var(--fill-color);\n",
              "      border-top-color: var(--fill-color);\n",
              "    }\n",
              "    30% {\n",
              "      border-color: transparent;\n",
              "      border-left-color: var(--fill-color);\n",
              "      border-top-color: var(--fill-color);\n",
              "      border-right-color: var(--fill-color);\n",
              "    }\n",
              "    40% {\n",
              "      border-color: transparent;\n",
              "      border-right-color: var(--fill-color);\n",
              "      border-top-color: var(--fill-color);\n",
              "    }\n",
              "    60% {\n",
              "      border-color: transparent;\n",
              "      border-right-color: var(--fill-color);\n",
              "    }\n",
              "    80% {\n",
              "      border-color: transparent;\n",
              "      border-right-color: var(--fill-color);\n",
              "      border-bottom-color: var(--fill-color);\n",
              "    }\n",
              "    90% {\n",
              "      border-color: transparent;\n",
              "      border-bottom-color: var(--fill-color);\n",
              "    }\n",
              "  }\n",
              "</style>\n",
              "\n",
              "  <script>\n",
              "    async function quickchart(key) {\n",
              "      const quickchartButtonEl =\n",
              "        document.querySelector('#' + key + ' button');\n",
              "      quickchartButtonEl.disabled = true;  // To prevent multiple clicks.\n",
              "      quickchartButtonEl.classList.add('colab-df-spinner');\n",
              "      try {\n",
              "        const charts = await google.colab.kernel.invokeFunction(\n",
              "            'suggestCharts', [key], {});\n",
              "      } catch (error) {\n",
              "        console.error('Error during call to suggestCharts:', error);\n",
              "      }\n",
              "      quickchartButtonEl.classList.remove('colab-df-spinner');\n",
              "      quickchartButtonEl.classList.add('colab-df-quickchart-complete');\n",
              "    }\n",
              "    (() => {\n",
              "      let quickchartButtonEl =\n",
              "        document.querySelector('#df-ccb00a21-4683-4c6a-90e6-d567b63d741f button');\n",
              "      quickchartButtonEl.style.display =\n",
              "        google.colab.kernel.accessAllowed ? 'block' : 'none';\n",
              "    })();\n",
              "  </script>\n",
              "</div>\n",
              "    </div>\n",
              "  </div>\n"
            ],
            "application/vnd.google.colaboratory.intrinsic+json": {
              "type": "dataframe"
            }
          },
          "metadata": {},
          "execution_count": 10
        }
      ]
    },
    {
      "cell_type": "code",
      "source": [
        "mice_df[\"Behavior\"].value_counts()"
      ],
      "metadata": {
        "colab": {
          "base_uri": "https://localhost:8080/"
        },
        "id": "GKiBIZ3TLZtF",
        "outputId": "6440b13a-90fc-4d77-d929-8d48739f5aa6"
      },
      "execution_count": 12,
      "outputs": [
        {
          "output_type": "execute_result",
          "data": {
            "text/plain": [
              "S/C    555\n",
              "C/S    525\n",
              "Name: Behavior, dtype: int64"
            ]
          },
          "metadata": {},
          "execution_count": 12
        }
      ]
    },
    {
      "cell_type": "code",
      "source": [],
      "metadata": {
        "id": "sk9QO-JVVQHf"
      },
      "execution_count": null,
      "outputs": []
    },
    {
      "cell_type": "markdown",
      "source": [
        "How many features are there in the dataset? Are they numerical or categorical?\n"
      ],
      "metadata": {
        "id": "nLf9n_DxVQiO"
      }
    },
    {
      "cell_type": "code",
      "source": [
        "print(mice_df.shape)\n",
        "print(classes.shape)\n",
        "\n",
        "#After dropping ‘Mouse-ID’, ‘Genotype’, ‘Treatment’ and ‘class’ columns\n",
        "\n",
        "#78 Features: + 1 target features  = 79 features\n",
        "\n",
        "#77 Numerical\n",
        "#2 categorical i.e Behavior and target feature columns(Genotype)"
      ],
      "metadata": {
        "colab": {
          "base_uri": "https://localhost:8080/"
        },
        "id": "J6D1F0vZVfxg",
        "outputId": "17ce9279-7488-4c12-e496-433974a629d7"
      },
      "execution_count": 13,
      "outputs": [
        {
          "output_type": "stream",
          "name": "stdout",
          "text": [
            "(1080, 78)\n",
            "(1080,)\n"
          ]
        }
      ]
    },
    {
      "cell_type": "markdown",
      "source": [
        "Create boxplots of the following features: ‘H3MeK4_N’, ‘BRAF_N’ What can you observe about their\n",
        "distributions?"
      ],
      "metadata": {
        "id": "efORpwUcWSJH"
      }
    },
    {
      "cell_type": "code",
      "source": [
        "#create a box plot for features\n",
        "\n",
        "plt.figure(figsize=(10, 6))\n",
        "mice_df[[\"H3MeK4_N\", \"BRAF_N\"]].boxplot()\n",
        "plt.title('Boxplots of H3MeK4_N and BRAF_N')\n",
        "plt.xlabel('Features')\n",
        "plt.ylabel('Values')\n",
        "plt.show()\n",
        "\n",
        "#When a box plot shows numerous outliers, it indicates that there are many data points in the feature\n",
        "#that are far away from the median and the upper and lower quartiles.\n",
        "#This can be due to the presence of extreme values or outliers in the data."
      ],
      "metadata": {
        "colab": {
          "base_uri": "https://localhost:8080/",
          "height": 574
        },
        "id": "mmaZO9vWWTfB",
        "outputId": "3e867c7a-ae04-410c-d5cd-95f80cd6c325"
      },
      "execution_count": 55,
      "outputs": [
        {
          "output_type": "display_data",
          "data": {
            "text/plain": [
              "<Figure size 1000x600 with 1 Axes>"
            ],
            "image/png": "[encoded data removed]"
          },
          "metadata": {}
        }
      ]
    },
    {
      "cell_type": "code",
      "source": [],
      "metadata": {
        "colab": {
          "base_uri": "https://localhost:8080/"
        },
        "id": "3SH0dbR7aEF3",
        "outputId": "83b26df0-04fb-43c5-d024-80df6e0a0098"
      },
      "execution_count": null,
      "outputs": [
        {
          "output_type": "execute_result",
          "data": {
            "text/plain": [
              "dtype('O')"
            ]
          },
          "metadata": {},
          "execution_count": 35
        }
      ]
    },
    {
      "cell_type": "markdown",
      "source": [
        " Calculate each class percentage in the dataset and characterize the dataset based on\n",
        "balance/imbalance"
      ],
      "metadata": {
        "id": "wJRBCQtKaEp7"
      }
    },
    {
      "cell_type": "code",
      "source": [
        "#class percentage in dataset\n",
        "\n",
        "class_unique_count = classes.value_counts()\n",
        "print(\"Class Count:\")\n",
        "print(class_unique_count)\n",
        "classes_df = pd.DataFrame(classes)\n",
        "\n",
        "#Class percentage\n",
        "class_unique_counts = classes_df.value_counts(normalize=True)\n",
        "percentage_counts = class_unique_counts.mul(100).round(1)\n",
        "\n",
        "percentage_counts = percentage_counts.map('{:.1f}%'.format)\n",
        "\n",
        "# Print the percentage counts with percentage sign\n",
        "print(\"Class Count in percentage(%):\")\n",
        "print(percentage_counts)\n",
        "\n",
        "\n",
        "sns.set_theme(style=\"darkgrid\")\n",
        "ax = sns.countplot(data=classes_df, x=\"Genotype\")\n",
        "plt.show()\n",
        "\n",
        "\n",
        "#Data Sets in the class are imbalance"
      ],
      "metadata": {
        "colab": {
          "base_uri": "https://localhost:8080/",
          "height": 614
        },
        "id": "Yfxh07-6aF_g",
        "outputId": "7ed3313c-8d22-4005-f013-2be29646ce0f"
      },
      "execution_count": 20,
      "outputs": [
        {
          "output_type": "stream",
          "name": "stdout",
          "text": [
            "Class Count:\n",
            "Control    570\n",
            "Ts65Dn     510\n",
            "Name: Genotype, dtype: int64\n",
            "Class Count in percentage(%):\n",
            "Genotype\n",
            "Control     52.8%\n",
            "Ts65Dn      47.2%\n",
            "dtype: object\n"
          ]
        },
        {
          "output_type": "display_data",
          "data": {
            "text/plain": [
              "<Figure size 640x480 with 1 Axes>"
            ],
            "image/png": "[encoded data removed]"
          },
          "metadata": {}
        }
      ]
    },
    {
      "cell_type": "code",
      "source": [],
      "metadata": {
        "id": "H34Tpf4Bbeck"
      },
      "execution_count": null,
      "outputs": []
    },
    {
      "cell_type": "markdown",
      "source": [
        "Calculate the correlations between the following pairs of features: ‘DYRK1A_N’, ‘SHH_N’ and\n",
        "‘BCL2_N’, ‘pS6_N’."
      ],
      "metadata": {
        "id": "j3te9mrYesmm"
      }
    },
    {
      "cell_type": "code",
      "source": [
        "#Correlation\n",
        "\n",
        "mice_df_corr1 = mice_df[[\"DYRK1A_N\", \"SHH_N\"]]\n",
        "\n",
        "# Calculate the correlation between the selected features/columns\n",
        "correlation_matrix1 = mice_df_corr1.corr()\n",
        "\n",
        "#sns.heatmap(correlation_matrix1)\n",
        "sns.heatmap(correlation_matrix1, annot=True, cmap='coolwarm')\n",
        "\n"
      ],
      "metadata": {
        "colab": {
          "base_uri": "https://localhost:8080/",
          "height": 458
        },
        "id": "Rgb0j5ZPeuKs",
        "outputId": "7a268ae7-8c33-4356-cfcb-e7d9035ccac6"
      },
      "execution_count": 27,
      "outputs": [
        {
          "output_type": "execute_result",
          "data": {
            "text/plain": [
              "<Axes: >"
            ]
          },
          "metadata": {},
          "execution_count": 27
        },
        {
          "output_type": "display_data",
          "data": {
            "text/plain": [
              "<Figure size 640x480 with 2 Axes>"
            ],
            "image/png": "[encoded data removed]"
          },
          "metadata": {}
        }
      ]
    },
    {
      "cell_type": "code",
      "source": [
        "mice_df_corr2 = mice_df[[\"BCL2_N\", \"pS6_N\"]]\n",
        "\n",
        "# Calculate the correlation between the selected features/columns\n",
        "\n",
        "correlation_matrix2 = mice_df_corr2.corr()\n",
        "\n",
        "#sns.heatmap(correlation_matrix1)\n",
        "sns.heatmap(correlation_matrix2, annot=True, cmap='coolwarm')\n",
        "\n",
        "\n",
        "#No correlation\n",
        "#implies that there is no multicollinearity, which can impact the stability and performance of the model."
      ],
      "metadata": {
        "id": "SuESXkZ1odZE",
        "colab": {
          "base_uri": "https://localhost:8080/",
          "height": 458
        },
        "outputId": "115e0ab9-d50a-4403-ccf3-84167f90c553"
      },
      "execution_count": 29,
      "outputs": [
        {
          "output_type": "execute_result",
          "data": {
            "text/plain": [
              "<Axes: >"
            ]
          },
          "metadata": {},
          "execution_count": 29
        },
        {
          "output_type": "display_data",
          "data": {
            "text/plain": [
              "<Figure size 640x480 with 2 Axes>"
            ],
            "image/png": "[encoded data removed]"
          },
          "metadata": {}
        }
      ]
    },
    {
      "cell_type": "code",
      "source": [],
      "metadata": {
        "id": "UtsUfThwU0ei"
      },
      "execution_count": null,
      "outputs": []
    },
    {
      "cell_type": "markdown",
      "source": [
        "Label Encoding"
      ],
      "metadata": {
        "id": "ai03q1j7pg_Y"
      }
    },
    {
      "cell_type": "code",
      "source": [
        "from sklearn.preprocessing import LabelEncoder\n",
        "# Convert diagnosis column to numerical values\n",
        "labelencoder = LabelEncoder()\n",
        "class_labelencoder = LabelEncoder()\n",
        "\n",
        "#Encode with unique values from 0, 1 or we could use map\n",
        "mice_df[\"Behavior\"] = labelencoder.fit_transform(mice_df[\"Behavior\"])\n",
        "\n",
        "mice_df[\"Behavior\"].value_counts()\n"
      ],
      "metadata": {
        "colab": {
          "base_uri": "https://localhost:8080/"
        },
        "id": "75pXoTpypkt-",
        "outputId": "1192be79-0e2c-471f-b2f5-7d8aed48802b"
      },
      "execution_count": 32,
      "outputs": [
        {
          "output_type": "execute_result",
          "data": {
            "text/plain": [
              "1    555\n",
              "0    525\n",
              "Name: Behavior, dtype: int64"
            ]
          },
          "metadata": {},
          "execution_count": 32
        }
      ]
    },
    {
      "cell_type": "code",
      "source": [
        "#Converting categorical to numerical in target variables\n",
        "classes_df = labelencoder.fit_transform(classes)\n",
        "\n",
        "classes_df = pd.DataFrame(classes_df)\n",
        "\n",
        "print(classes_df.value_counts())\n",
        "plt.hist(classes_df)\n",
        "plt.show()"
      ],
      "metadata": {
        "colab": {
          "base_uri": "https://localhost:8080/",
          "height": 486
        },
        "id": "8wny5VP5r4LM",
        "outputId": "b5e66132-f611-44e0-e03a-2453e3e9bafc"
      },
      "execution_count": 34,
      "outputs": [
        {
          "output_type": "stream",
          "name": "stdout",
          "text": [
            "0    570\n",
            "1    510\n",
            "dtype: int64\n"
          ]
        },
        {
          "output_type": "display_data",
          "data": {
            "text/plain": [
              "<Figure size 640x480 with 1 Axes>"
            ],
            "image/png": "[encoded data removed]"
          },
          "metadata": {}
        }
      ]
    },
    {
      "cell_type": "code",
      "source": [
        "#Splitting data sets into train and test set\n",
        "\n",
        "X = mice_df\n",
        "y = classes_df\n",
        "\n",
        "# Split the data into training and testing sets\n",
        "X_train, X_test, y_train, y_test = train_test_split(X, y, test_size=0.2, random_state=42)\n",
        "\n",
        "print(f'Size of training features:{X_train.shape}\\nSize of testing features:{X_test.shape}')\n",
        "print(f'Size of training labels:{y_train.shape}\\nSize of testing labels:{y_test.shape}')\n",
        "\n",
        "#Normalization of data between 0 and 1\n",
        "#scaler = StandardScaler()\n",
        "scaler = MinMaxScaler()\n",
        "X_train_scaled = scaler.fit_transform(X_train)\n",
        "X_test_scaled = scaler.transform(X_test)"
      ],
      "metadata": {
        "colab": {
          "base_uri": "https://localhost:8080/"
        },
        "id": "EC4Uu02ry0L-",
        "outputId": "91d16f36-8bf8-440a-9444-de99254d34b3"
      },
      "execution_count": 50,
      "outputs": [
        {
          "output_type": "stream",
          "name": "stdout",
          "text": [
            "Size of training features:(864, 78)\n",
            "Size of testing features:(216, 78)\n",
            "Size of training labels:(864, 1)\n",
            "Size of testing labels:(216, 1)\n"
          ]
        }
      ]
    },
    {
      "cell_type": "code",
      "source": [
        "X_train_scaled"
      ],
      "metadata": {
        "colab": {
          "base_uri": "https://localhost:8080/"
        },
        "id": "W9sxud_9aDQi",
        "outputId": "2ea844a1-5ddb-4528-aca9-0ee799c3a694"
      },
      "execution_count": 51,
      "outputs": [
        {
          "output_type": "execute_result",
          "data": {
            "text/plain": [
              "array([[0.10428462, 0.16014789, 0.63508056, ..., 0.33284383, 0.37980397,\n",
              "        1.        ],\n",
              "       [0.16186776, 0.15633874, 0.31531178, ..., 0.34706789, 0.33438918,\n",
              "        0.        ],\n",
              "       [0.14149816, 0.14148203, 0.25792237, ..., 0.41677275, 0.42135876,\n",
              "        0.        ],\n",
              "       ...,\n",
              "       [0.25665976, 0.32640695, 0.73130791, ..., 0.31359212, 0.67861477,\n",
              "        0.        ],\n",
              "       [0.08800048, 0.13933176, 0.79926374, ..., 0.39556512, 0.37325002,\n",
              "        1.        ],\n",
              "       [0.12741304, 0.19960739, 0.49459913, ..., 0.32071987, 0.79144938,\n",
              "        0.        ]])"
            ]
          },
          "metadata": {},
          "execution_count": 51
        }
      ]
    },
    {
      "cell_type": "code",
      "source": [
        "from sklearn.neighbors import KNeighborsClassifier\n",
        "from sklearn.metrics import accuracy_score, confusion_matrix, precision_score, recall_score, f1_score, classification_report\n",
        "\n",
        "from sklearn.metrics import roc_auc_score\n",
        "\n",
        "def train_eval(input_model, input_X_train, input_X_test, input_y_train, input_y_test):\n",
        "\n",
        "  input_model.fit(input_X_train, input_y_train)\n",
        "\n",
        "  # Make predictions on the test set\n",
        "  y_pred = input_model.predict(input_X_test)\n",
        "\n",
        "  # Evaluate the model\n",
        "  accuracy = accuracy_score(y_test, y_pred)\n",
        "  precision = precision_score(y_test, y_pred )\n",
        "  recall = recall_score(y_test, y_pred )\n",
        "  f1 = f1_score(y_test, y_pred)\n",
        "  auc = roc_auc_score(y_test, y_pred)\n",
        "\n",
        "\n",
        "  # Print the metrics\n",
        "  print(f'Accuracy: {accuracy:.4f}')\n",
        "  print(f'Precision: {precision:.4f}')\n",
        "  print(f'Recall: {recall:.4f}')\n",
        "  print(f'F1 Score: {f1:.4f}')\n",
        "  print(f'AUC: {auc:.4f}')\n",
        "\n",
        "  conf_matrix = confusion_matrix(y_test, y_pred)\n",
        "  plt.figure(figsize=(4, 4))\n",
        "  sns.heatmap(conf_matrix, annot=True, fmt='d', cmap='Blues', cbar=False,\n",
        "              xticklabels=['Ts65Dn', 'Control'],\n",
        "              yticklabels=['Ts65Dn', 'Control'])\n",
        "  plt.xlabel('Predicted')\n",
        "  plt.ylabel('Actual')\n",
        "  plt.title('Confusion Matrix')\n",
        "  print()\n",
        "  print('Confusion Matrix:')\n",
        "  print('True Positives (TP):', conf_matrix[0,0])\n",
        "  print('True Negatives (TN):', conf_matrix[1,1])\n",
        "  print('False Positives (FP):', conf_matrix[1,0])\n",
        "  print('False Negatives (FN):', conf_matrix[0,1])\n",
        "  plt.show()\n",
        "\n",
        "  specificity = recall_score(y_test, y_pred, pos_label=0)\n",
        "  print(f\"Specificity:{specificity:.4f}\")\n",
        "\n",
        "  print()\n",
        "  sensitivity = recall_score(y_test, y_pred)\n",
        "  print(f\"Sensitivity:{sensitivity:.4f}\")"
      ],
      "metadata": {
        "id": "zkGHhwxS6her"
      },
      "execution_count": 82,
      "outputs": []
    },
    {
      "cell_type": "code",
      "source": [
        "from sklearn.svm import SVC\n",
        "\n",
        "#Control trade off between smooth decision boundaries and classfiying training points correctly\n",
        "svm_rbf = SVC(kernel='rbf', C=1)\n",
        "\n",
        "train_eval(svm_rbf, X_train, X_test, y_train, y_test)\n",
        "\n"
      ],
      "metadata": {
        "colab": {
          "base_uri": "https://localhost:8080/",
          "height": 662
        },
        "id": "ebjOxL-33IIG",
        "outputId": "0be2da27-c991-45d6-e62b-3d4cebb04b66"
      },
      "execution_count": 83,
      "outputs": [
        {
          "output_type": "stream",
          "name": "stdout",
          "text": [
            "Accuracy: 0.8611\n",
            "Precision: 0.9351\n",
            "Recall: 0.7423\n",
            "F1 Score: 0.8276\n",
            "AUC: 0.8501\n",
            "\n",
            "Confusion Matrix:\n",
            "True Positives (TP): 114\n",
            "True Negatives (TN): 72\n",
            "False Positives (FP): 25\n",
            "False Negatives (FN): 5\n"
          ]
        },
        {
          "output_type": "display_data",
          "data": {
            "text/plain": [
              "<Figure size 400x400 with 1 Axes>"
            ],
            "image/png": "[encoded data removed]"
          },
          "metadata": {}
        },
        {
          "output_type": "stream",
          "name": "stdout",
          "text": [
            "Specificity:0.9580\n",
            "\n",
            "Sensitivity:0.7423\n"
          ]
        }
      ]
    },
    {
      "cell_type": "code",
      "source": [
        "from sklearn.svm import SVC\n",
        "#Scaled data\n",
        "#Control trade off between smooth decision boundaries and classfiying training points correctly\n",
        "svm_rbf = SVC(kernel='rbf', C=1)\n",
        "\n",
        "train_eval(svm_rbf, X_train_scaled, X_test_scaled, y_train, y_test)"
      ],
      "metadata": {
        "colab": {
          "base_uri": "https://localhost:8080/",
          "height": 662
        },
        "id": "ft3nIPj4YOql",
        "outputId": "f15a2403-ba59-4e15-ab45-f2bc1393686e"
      },
      "execution_count": 79,
      "outputs": [
        {
          "output_type": "stream",
          "name": "stdout",
          "text": [
            "Accuracy: 0.9907\n",
            "Precision: 1.0000\n",
            "Recall: 0.9794\n",
            "F1 Score: 0.9896\n",
            "AUC: 0.9897\n",
            "\n",
            "Confusion Matrix:\n",
            "True Positives (TP): 119\n",
            "True Negatives (TN): 95\n",
            "False Positives (FP): 2\n",
            "False Negatives (FN): 0\n"
          ]
        },
        {
          "output_type": "display_data",
          "data": {
            "text/plain": [
              "<Figure size 400x400 with 1 Axes>"
            ],
            "image/png": "[encoded data removed]"
          },
          "metadata": {}
        },
        {
          "output_type": "stream",
          "name": "stdout",
          "text": [
            "Specificity:  1.0\n",
            "\n",
            "Sensitivity:  0.979381443298969\n"
          ]
        }
      ]
    },
    {
      "cell_type": "markdown",
      "source": [
        "Sensitivity (Recall): This metric refers to the ability of the classifier to correctly identify mice with trisomy (positive cases). A high sensitivity ensures you don't miss any mice that actually have trisomy. In the context of medical diagnosis, missing a case (false negative) can be severe.\n",
        "\n",
        "Specificity: This metric refers to the ability of the classifier to correctly identify mice without trisomy (negative cases). A high specificity ensures you don't mistakenly classify healthy mice as having trisomy (false positive).  False positives might lead to unnecessary procedures or treatment."
      ],
      "metadata": {
        "id": "2uWeRY-lx69d"
      }
    },
    {
      "cell_type": "code",
      "source": [
        " #The AUC (Area Under the Curve) score is a metric used to evaluate the performance of a binary classifier.\n",
        " #It represents the probability that the classifier will rank a randomly chosen\n",
        " # positive instance higher than a randomly chosen negative instance.\n",
        "\n",
        "\n"
      ],
      "metadata": {
        "id": "C9U4BMb8x8VN"
      },
      "execution_count": null,
      "outputs": []
    },
    {
      "cell_type": "code",
      "source": [
        "# Leave-One-Out (LOO)\n",
        "\n",
        "from sklearn.model_selection import LeaveOneOut\n",
        "\n",
        "loo = LeaveOneOut()\n",
        "\n",
        "# Initialize empty lists to store accuracy values and standard deviations\n",
        "result_accuracies = []\n",
        "\n",
        "# Perform LOO cross-validation and calculate accuracy values and standard deviations\n",
        "for train, test in loo.split(X):\n",
        "    X_train, X_test = X[train], X[test]\n",
        "    y_train, y_test = y[train], y[test]\n",
        "\n",
        "    #fit classifier\n",
        "    svm_rbf.fit(X_train, y_train)\n",
        "\n",
        "    # Predict on test set and calculate accuracy\n",
        "    y_pred = svm_rbf.predict(X_test)\n",
        "    accuracy = accuracy_score(y_test, y_pred)\n",
        "\n",
        "    result_accuracies.append(accuracy)\n",
        "\n",
        "# Calculate mean and standard deviation of accuracy values\n",
        "mean_accuracy = np.mean(result_accuracies)\n",
        "std_accuracy = np.std(result_accuracies)\n",
        "\n",
        "# Print mean accuracy and standard deviation\n",
        "print(\"Mean accuracy: \", mean_accuracy)\n",
        "print(\"Standard deviation of accuracy: \", std_accuracy)\n"
      ],
      "metadata": {
        "colab": {
          "base_uri": "https://localhost:8080/"
        },
        "id": "1iegHj10m10J",
        "outputId": "8764f39d-4cd1-4898-82f8-2b7060571154"
      },
      "execution_count": 98,
      "outputs": [
        {
          "output_type": "stream",
          "name": "stdout",
          "text": [
            "Mean accuracy:  0.94\n",
            "Standard deviation of accuracy:  0.23748684174075835\n"
          ]
        }
      ]
    },
    {
      "cell_type": "code",
      "source": [],
      "metadata": {
        "id": "mfT1aFJ19PHm"
      },
      "execution_count": 96,
      "outputs": []
    }
  ]
}